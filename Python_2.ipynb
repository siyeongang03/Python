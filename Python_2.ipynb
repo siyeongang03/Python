{
  "cells": [
    {
      "cell_type": "markdown",
      "metadata": {
        "id": "view-in-github",
        "colab_type": "text"
      },
      "source": [
        "<a href=\"https://colab.research.google.com/github/siyeongang03/Python/blob/main/Python_2.ipynb\" target=\"_parent\"><img src=\"https://colab.research.google.com/assets/colab-badge.svg\" alt=\"Open In Colab\"/></a>"
      ]
    },
    {
      "cell_type": "markdown",
      "metadata": {
        "id": "Ux9-Ov9dVlA9"
      },
      "source": [
        "202200755 김시연"
      ]
    },
    {
      "cell_type": "code",
      "execution_count": null,
      "metadata": {
        "colab": {
          "background_save": true,
          "base_uri": "https://localhost:8080/"
        },
        "id": "kCQTGStIVote",
        "outputId": "827c7a41-1190-44d0-a1a1-86e7edd46e52"
      },
      "outputs": [
        {
          "name": "stdout",
          "output_type": "stream",
          "text": [
            "당신이 입력한 숫자는 큰 것부터 순서대로 말한다면 아래와 같습니다.\n",
            "60\n",
            "당신이 입력한 숫자는 큰 것부터 순서대로 말한다면 아래와 같습니다.\n",
            "60,99\n",
            "당신이 입력한 숫자는 큰 것부터 순서대로 말한다면 아래와 같습니다.\n",
            "60,99,5000\n"
          ]
        }
      ],
      "source": [
        "numberList = []\n",
        "for u in range(100):\n",
        "    if (u == 0):\n",
        "       number = input(\"자연수 한 개를 입력하세요.\")\n",
        "    elif (u == 100):\n",
        "        print(\"이제 그만하세요.벌써100개를 입력했어요.\")\n",
        "        break\n",
        "    else:\n",
        "       number = input(\"계속 입력을 원하시면, 자연수 한 개를 입력하시고, 아니라면 0을 입력하세요.\")\n",
        "\n",
        "    if (number == \"0\"):\n",
        "      break\n",
        "    else:    \n",
        "      numberList.append(number) \n",
        "      print(\"당신이 입력한 숫자는 큰 것부터 순서대로 말한다면 아래와 같습니다.\")\n",
        "      print(\",\".join(numberList))   \n",
        "\n",
        "        \n",
        "\n"
      ]
    },
    {
      "cell_type": "code",
      "execution_count": null,
      "metadata": {
        "colab": {
          "base_uri": "https://localhost:8080/"
        },
        "id": "-JMKXq6XY7zv",
        "outputId": "31e3e1a5-171d-47b1-cee7-9c4dde58f7c1"
      },
      "outputs": [
        {
          "name": "stdout",
          "output_type": "stream",
          "text": [
            "30이하의 정수를 입력해주세요.5\n",
            "1\n",
            "*2\n",
            "**3\n",
            "***4\n",
            "****5\n"
          ]
        }
      ],
      "source": [
        "index = 1\n",
        "\n",
        "maxNum = int(input(\"30이하의 정수를 입력해주세요.\"));\n",
        "\n",
        "if (maxNum > 30):\n",
        "  print(\"너무 많습니다.\")\n",
        "else:\n",
        "  while(index < maxNum+1):\n",
        "    print(\"*\"*(index-1) + str(index))\n",
        "\n",
        "    index += 1"
      ]
    }
  ],
  "metadata": {
    "colab": {
      "provenance": [],
      "authorship_tag": "ABX9TyN8PM5nxBjDnUTQgNgIh7UY",
      "include_colab_link": true
    },
    "kernelspec": {
      "display_name": "Python 3",
      "name": "python3"
    },
    "language_info": {
      "name": "python"
    }
  },
  "nbformat": 4,
  "nbformat_minor": 0
}